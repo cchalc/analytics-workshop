{
 "cells": [
  {
   "cell_type": "code",
   "execution_count": 0,
   "metadata": {
    "application/vnd.databricks.v1+cell": {
     "cellMetadata": {},
     "inputWidgets": {},
     "nuid": "3d4f3045-2501-401e-a6d4-1deed994b9cb",
     "showTitle": false,
     "tableResultSettingsMap": {},
     "title": ""
    }
   },
   "outputs": [],
   "source": [
    "CREATE OR REFRESH STREAMING TABLE ingestion_st\n",
    "AS SELECT * FROM STREAM read_files(\"/databricks-datasets/retail-org/sales_orders\");"
   ]
  },
  {
   "cell_type": "code",
   "execution_count": 0,
   "metadata": {
    "application/vnd.databricks.v1+cell": {
     "cellMetadata": {},
     "inputWidgets": {},
     "nuid": "acafb349-dca3-419b-b4be-688f74968e58",
     "showTitle": false,
     "tableResultSettingsMap": {},
     "title": ""
    }
   },
   "outputs": [],
   "source": [
    "CREATE OR REFRESH MATERIALIZED VIEW batch_mv\n",
    "AS SELECT * FROM read_files(\"/databricks-datasets/retail-org/sales_orders\");\n"
   ]
  },
  {
   "cell_type": "code",
   "execution_count": 0,
   "metadata": {
    "application/vnd.databricks.v1+cell": {
     "cellMetadata": {},
     "inputWidgets": {},
     "nuid": "8511f60f-4538-4fff-8d5e-8d95a97647af",
     "showTitle": false,
     "tableResultSettingsMap": {},
     "title": ""
    }
   },
   "outputs": [],
   "source": [
    "CREATE OR REFRESH STREAMING TABLE orders_valid(\n",
    "  CONSTRAINT valid_date\n",
    "  EXPECT (order_datetime IS NOT NULL AND length(order_datetime) > 0)\n",
    "  ON VIOLATION DROP ROW\n",
    ")\n",
    "AS SELECT * FROM STREAM read_files(\"/databricks-datasets/retail-org/sales_orders\");\n"
   ]
  },
  {
   "cell_type": "code",
   "execution_count": 0,
   "metadata": {
    "application/vnd.databricks.v1+cell": {
     "cellMetadata": {},
     "inputWidgets": {},
     "nuid": "0d299878-138e-4f63-ab9b-dab1bac849ae",
     "showTitle": false,
     "tableResultSettingsMap": {},
     "title": ""
    }
   },
   "outputs": [],
   "source": [
    "\n",
    "CREATE OR REFRESH STREAMING TABLE orders(\n",
    "  CONSTRAINT valid_date\n",
    "  EXPECT (order_datetime IS NOT NULL AND length(order_datetime) > 0)\n",
    "  ON VIOLATION DROP ROW\n",
    ")\n",
    "AS SELECT * FROM STREAM read_files(\"/databricks-datasets/retail-org/sales_orders\");\n",
    "\n",
    "CREATE OR REFRESH MATERIALIZED VIEW customers\n",
    "AS SELECT * FROM read_files(\"/databricks-datasets/retail-org/customers\");\n",
    "\n",
    "CREATE OR REFRESH MATERIALIZED VIEW customer_orders\n",
    "AS SELECT\n",
    "  c.customer_id,\n",
    "  o.order_number,\n",
    "  c.state,\n",
    "  date(timestamp(int(o.order_datetime))) order_date\n",
    "FROM LIVE.orders o\n",
    "INNER JOIN LIVE.customers c\n",
    "ON o.customer_id = c.customer_id;\n",
    "\n",
    "CREATE OR REFRESH MATERIALIZED VIEW daily_orders_by_state\n",
    "AS SELECT state, order_date, count(*) order_count\n",
    "FROM LIVE.customer_orders\n",
    "GROUP BY state, order_date;\n"
   ]
  }
 ],
 "metadata": {
  "application/vnd.databricks.v1+notebook": {
   "computePreferences": null,
   "dashboards": [],
   "environmentMetadata": {
    "base_environment": "",
    "client": "1"
   },
   "language": "sql",
   "notebookMetadata": {
    "pythonIndentUnit": 2
   },
   "notebookName": "dlt_setup_data",
   "widgets": {}
  },
  "language_info": {
   "name": "sql"
  }
 },
 "nbformat": 4,
 "nbformat_minor": 0
}
