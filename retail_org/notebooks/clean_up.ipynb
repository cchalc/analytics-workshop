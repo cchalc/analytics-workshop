{
 "cells": [
  {
   "cell_type": "code",
   "execution_count": 0,
   "metadata": {
    "application/vnd.databricks.v1+cell": {
     "cellMetadata": {
      "byteLimit": 2048000,
      "rowLimit": 10000
     },
     "inputWidgets": {},
     "nuid": "6d28e7c6-5a8a-48b9-9fc1-3207a670a11e",
     "showTitle": false,
     "tableResultSettingsMap": {},
     "title": ""
    }
   },
   "outputs": [],
   "source": [
    "SHOW TABLES IN users.christopher_chalcraft;\n"
   ]
  },
  {
   "cell_type": "code",
   "execution_count": 0,
   "metadata": {
    "application/vnd.databricks.v1+cell": {
     "cellMetadata": {
      "byteLimit": 2048000,
      "rowLimit": 10000
     },
     "inputWidgets": {},
     "nuid": "a13dd58c-b076-4b80-9280-8755332c626c",
     "showTitle": false,
     "tableResultSettingsMap": {},
     "title": ""
    }
   },
   "outputs": [],
   "source": [
    "-- Show tables in the schema\n",
    "SHOW TABLES IN users.christopher_chalcraft;\n",
    "\n",
    "-- Generate a list of DROP TABLE statements for all tables in the schema\n",
    "SELECT CONCAT('DROP TABLE users.christopher_chalcraft.', tableName, ';') AS drop_statement\n",
    "FROM (\n",
    "  SELECT tableName\n",
    "  FROM users.christopher_chalcraft.INFORMATION_SCHEMA.TABLES\n",
    "  WHERE table_schema = 'users.christopher_chalcraft'\n",
    ");"
   ]
  },
  {
   "cell_type": "code",
   "execution_count": 0,
   "metadata": {
    "application/vnd.databricks.v1+cell": {
     "cellMetadata": {},
     "inputWidgets": {},
     "nuid": "9071ba3f-87e4-4712-8ebe-932b60116a41",
     "showTitle": false,
     "tableResultSettingsMap": {},
     "title": ""
    }
   },
   "outputs": [],
   "source": []
  }
 ],
 "metadata": {
  "application/vnd.databricks.v1+notebook": {
   "computePreferences": null,
   "dashboards": [],
   "environmentMetadata": {
    "base_environment": "",
    "client": "2"
   },
   "language": "sql",
   "notebookMetadata": {},
   "notebookName": "clean_up",
   "widgets": {}
  },
  "language_info": {
   "name": "sql"
  }
 },
 "nbformat": 4,
 "nbformat_minor": 0
}
